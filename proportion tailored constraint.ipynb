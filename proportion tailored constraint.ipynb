{
 "cells": [
  {
   "cell_type": "code",
   "execution_count": 1,
   "id": "970441e8",
   "metadata": {},
   "outputs": [],
   "source": [
    "import cobra"
   ]
  },
  {
   "cell_type": "code",
   "execution_count": 2,
   "id": "f9d83a6b",
   "metadata": {},
   "outputs": [
    {
     "name": "stdout",
     "output_type": "stream",
     "text": [
      "Set parameter Username\n",
      "Academic license - for non-commercial use only - expires 2023-11-25\n"
     ]
    }
   ],
   "source": [
    "model = cobra.io.read_sbml_model('crTAP_steve_prote_20_01_23.xml')"
   ]
  },
  {
   "cell_type": "code",
   "execution_count": 3,
   "id": "432180ae",
   "metadata": {},
   "outputs": [],
   "source": [
    "same_flux = model.problem.Constraint(model.reactions.ATPSh.flux_expression - 10*model.reactions.ATPSm.flux_expression, \n",
    "                                    lb = 0 , ub = 0)"
   ]
  },
  {
   "cell_type": "code",
   "execution_count": 4,
   "id": "10b97b43",
   "metadata": {},
   "outputs": [],
   "source": [
    "model.add_cons_vars(same_flux)"
   ]
  },
  {
   "cell_type": "code",
   "execution_count": 5,
   "id": "347009a8",
   "metadata": {},
   "outputs": [],
   "source": [
    "FBA = cobra.flux_analysis.pfba(model)"
   ]
  },
  {
   "cell_type": "code",
   "execution_count": 6,
   "id": "928ce66f",
   "metadata": {},
   "outputs": [
    {
     "name": "stdout",
     "output_type": "stream",
     "text": [
      "6.000000000000027\n",
      "0.6000000000000026\n"
     ]
    }
   ],
   "source": [
    "print(FBA['ATPSh'])\n",
    "print(FBA['ATPSm'])"
   ]
  },
  {
   "cell_type": "code",
   "execution_count": 7,
   "id": "1ac8d82c",
   "metadata": {},
   "outputs": [
    {
     "name": "stdout",
     "output_type": "stream",
     "text": [
      "6.0\n",
      "0.6\n"
     ]
    }
   ],
   "source": [
    "FBA = model.optimize()\n",
    "\n",
    "print(FBA['ATPSh'])\n",
    "print(FBA['ATPSm'])"
   ]
  },
  {
   "cell_type": "code",
   "execution_count": null,
   "id": "f70b9f7e",
   "metadata": {},
   "outputs": [],
   "source": []
  }
 ],
 "metadata": {
  "kernelspec": {
   "display_name": "Python 3 (ipykernel)",
   "language": "python",
   "name": "python3"
  },
  "language_info": {
   "codemirror_mode": {
    "name": "ipython",
    "version": 3
   },
   "file_extension": ".py",
   "mimetype": "text/x-python",
   "name": "python",
   "nbconvert_exporter": "python",
   "pygments_lexer": "ipython3",
   "version": "3.9.7"
  }
 },
 "nbformat": 4,
 "nbformat_minor": 5
}
